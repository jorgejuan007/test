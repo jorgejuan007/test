{
 "cells": [
  {
   "cell_type": "markdown",
   "metadata": {
    "nbpresent": {
     "id": "c9eff3b0-f8df-4511-9ea9-6b54dabada40"
    }
   },
   "source": [
    "<a id='mady'></a>\n",
    "\n",
    "|<img src=\"./icons/MEH.gif\"/>|<img src=\"./SEPGDGCPyPP.png\"/>| <img src=\"./icons/network.png\"/>  |\n",
    "|---|---|---|\n",
    "|**Curso Data Science**|Marzo 2016|Coordinación: Secretaría General|\n",
    "|Personal Directivo y Predirectivo||Framework **Mady NZ** Diseño y Programación: $^{Jorge\\cdot Juan\\sum\\rightarrow\\infty}_{Lafuente \\cdot Carrasco \\cdot\\otimes\\nsim}$|"
   ]
  },
  {
   "cell_type": "markdown",
   "metadata": {},
   "source": [
    "<a id='indice'></a>\n",
    "\n",
    "<img src=\"./icons/indice.png\"  width=\"80%\" height=\"80%\"/>|<span style=\"color:dark blue; font-size:x-large\">**INDICE DEL CURSO**</span>|<img src=\"./icons/UP.png\"  width=\"50%\" height=\"50%\"/>[Inicio](#mady) \n",
    ":---: | :---: |:---:\n",
    "16 a 19 de Marzo|Ponente: Jorge Juan Lafuente Carrasco (Extensión 91436)|"
   ]
  },
  {
   "cell_type": "markdown",
   "metadata": {},
   "source": [
    "<table style=\"width:100%; background-color:#eee;\">\n",
    "  <tr align=\"center\">\n",
    "    <th>Enlace (clic en el link)</th>\n",
    "    <th>Sección</th> \n",
    "  </tr>\n",
    "  <tr align=\"center\">\n",
    "    <td>\n",
    "        [![\"Ir a\"](./icons/power.png)](#lineas)\n",
    "    </td>\n",
    "    <td>**A**. Antecedentes ¿Qué nos ha llevado aquí? ¿Qué es Data Science ?</td> \n",
    "  </tr>\n",
    "  <tr>\n",
    "    <td>\n",
    "        [![\"Ir a\"](./icons/target.png)](#objetivos)\n",
    "    </td>\n",
    "    <td>**B**. Porcentaje de Cumplimiento de los objetivos de la Dirección General</td> \n",
    "  </tr>\n",
    "  <tr><tr align=\"center\">\n",
    "    <td>\n",
    "        [![\"Ir a\"](./icons/minimize.png)](#unidades)\n",
    "    </td>\n",
    "    <td>**C**. Unidades de la Dirección General\n",
    "    </td> \n",
    "  </tr>\n",
    "  <tr>\n",
    "    <td>\n",
    "        [![\"Ir a\"](./icons/table.png)](#personas)\n",
    "    </td>\n",
    "    <td>**D**. Personal de la Dirección General</td> \n",
    "  </tr>\n",
    "</table>\n",
    "\n",
    "***************"
   ]
  },
  {
   "cell_type": "markdown",
   "metadata": {},
   "source": [
    "# Prólogo\n",
    "\n",
    "## Vivimos una epoca emocionante, innovadora. De transformación al mundo digital.\n",
    "\n",
    "### En el inmenso flujo de información que nos rodea ¿Cómo responder a las preguntas clave de nuestros trabajos, vidas y el mundo que nos rodea?\n",
    "\n",
    "### La ciencia de datos pretende dar respuesta a esta pregunta haciendo util el torrente de datos que nos llega. Predecir, encontrar significado, descubrir patrones, priorizar lo importante, descubrir recursos ocultos.\n",
    "\n",
    "### La aplicación de la informatica se expande a todas las profesiones transformándolas.\n",
    "\n",
    "### Que estés aqui significa que te has embarcado en una aventura de descubrimiento, de visión...\n",
    "\n",
    "### Estamos ante una nueva era. La era de los datos. Aquellos que se incorporen a esta excitante aventura podran dar forma a un camino nuevo en cada uno de sus campos profesionales. \n",
    "\n",
    "## ¡Te doy  la Bienvenida a la Ciencia de Datos!"
   ]
  },
  {
   "cell_type": "markdown",
   "metadata": {},
   "source": [
    "<img src=\"./icons/SuperAgente86.jpg\"  width=\"30%\" height=\"30%\"/>\n",
    "Maxwell Smart, Super Agente 86 con su zapatofono\n",
    "<img src=\"./icons/zapatosuperagente86.jpeg\"  width=\"30%\" height=\"30%\"/>\n",
    "## ¿Teléfonos sin cables? ¿Coches que se conducen solos? ¡Imposible! Pues...no"
   ]
  },
  {
   "cell_type": "markdown",
   "metadata": {},
   "source": [
    "# A.1\n",
    "# Confluencias: Ordenador Personal, Internet, Telefonía Movil, Nube\n",
    "\n",
    "## Cada vez hay fronteras menos definidas\n",
    "\n",
    "# ¿ Que es la Ciencia de Datos ?\n",
    "\n",
    "<img src=\"./icons/DataScienceDisciplines.png\"  width=\"60%\" height=\"60%\"/>\n",
    "\n",
    "## La convergencia de Ciencia (Método Cientifico), El conocimiento (Gestión y Negocio) e Informática (Proceso de Datos)\n",
    "\n",
    "https://datascience.berkeley.edu/about/what-is-data-science/\n"
   ]
  },
  {
   "cell_type": "markdown",
   "metadata": {},
   "source": [
    "# A.2\n",
    "# El 90% de los datos existentes se ha generado en los dos últimos años\n",
    "## Los dispositivos móviles y sensores han disparado la cantidad de datos disponibles\n",
    "\n",
    "*Fuente IBM: https://www-01.ibm.com/software/data/bigdata/what-is-big-data.html*\n",
    "\n",
    "Cada dia se crean **2.5 quintilliones de bytes de datos** — *el 90% de los datos mundiales han sido creados en los dos últimos años.*\n",
    "Y esto nos lleva a:\n",
    "<img src=\"./icons/big-data.jpg\"  width=\"30%\" height=\"30%\"/>\n",
    "Los datos provienen de todos sitios: sensores, control del clima, social media, imagenes, videos, registros de compras, datos de los teléfonos móviles...\n",
    "Son muchos, muchos datos...\n",
    "\n",
    "<img src=\"./icons/FuentesBigDATA.png\"  width=\"60%\" height=\"60%\"/>\n",
    "Fuentes de Big DATA"
   ]
  },
  {
   "cell_type": "markdown",
   "metadata": {},
   "source": [
    "## Problema 1. ¿Como tratar este volumen de datos? Big Data\n",
    "\n",
    "## ¿Cuando un volumen de datos requiere Big Data?\n",
    "\n",
    "No solo es cuando hay gran cantidad de datos. Recuerde: **hay BIG DATA si se cumple alguna de las 3 V**\n",
    "\n",
    "* Volumen de datos\n",
    "* Velocidad\n",
    "* Variabilidad\n",
    "\n",
    "http://www.winshuttle.es/big-data-historia-cronologica/\n",
    "\n",
    ">**Historia del Big Data **\n",
    "Desde que surgieron las primeras formas de escritura cuneiforme hasta los centros de datos modernos, la raza humana no ha dejado de recopilar información. El crecimiento del sector tecnológico ha provocado un aumento desmesurado del volumen de datos que requiere sistemas de almacenamiento cada vez más sofisticados. El concepto de sobrecarga de información apareció ya en la década de 1930. El baby-boom en los Estados Unidos, la creación de números de la Seguridad Social y el aumento general del conocimiento e investigación, hizo necesaria la creación de un sistema de registro exhaustivo y mejor organizado. Sin embargo, no tardaron en surgir las primeras señales de alarma.\n",
    "\n",
    ">El crecimiento imparable del saber fue muy beneficioso para la sociedad, pero en seguida supuso un problema de almacenamiento para las bibliotecas. Con el incremento de la información durante las siguientes décadas, diversas organizaciones comenzaron a diseñar e implementar sistemas de computación centralizados que les permitiesen automatizar sus inventarios. Estos sistemas fueron madurando en todas las diferentes industrias hasta llegar a integrarse en las empresas, de forma que las grandes organizaciones comenzaron a usar toda esta información para buscar respuestas y mejorar la toma de decisiones empresariales.\n",
    "\n",
    ">Con la inteligencia empresarial (BI) amontonándose, el problema de su almacenamiento y gestión pronto volvió a salir a la superficie. Para poder aumentar la oferta de funcionalidades el almacenamiento digital tenía que salir más rentable. Esto condujo a la aparición de las plataformas de inteligencia empresarial (BI). Con el desarrollo de estas plataformas, la información recopilada permitirá a las empresas e investigadores científicos conseguir avances y descubrimientos revolucionarios.\n",
    "\n",
    "## Problema 2. Grandes Datos, Gran Responsabilidad\n",
    "\n",
    "MIT Tech. Review\n",
    "\n",
    "https://www.technologyreview.com/s/425648/with-big-data-comes-big-responsibilities/\n",
    "\n",
    "https://papers.ssrn.com/sol3/papers.cfm?abstract_id=1926431\n",
    "\n",
    ">Resumen del artículo:\n",
    "La era de Big Data ha comenzado. Los científicos informáticos, los físicos, los economistas, los matemáticos, los científicos políticos, los bioinformáticos, los sociólogos y muchos otros están clamando por el acceso a las enormes cantidades de información producida por y sobre las personas, las cosas y sus interacciones. Diversos grupos discuten sobre los posibles beneficios y costos de analizar la información de Twitter, Google, Verizon, 23andMe, Facebook, Wikipedia y todos los espacios donde grandes grupos de personas dejan huellas digitales y depositan datos. Surgen preguntas importantes.\n",
    "\n",
    "**¿El análisis a gran escala del ADN ayudará a curar enfermedades? ¿O dará paso a una nueva ola de desigualdad médica?**\n",
    "\n",
    "**¿El análisis de datos ayudará a que el acceso de las personas a la información sea más eficiente y efectivo? ¿O se usará para rastrear a los manifestantes en las calles de las principales ciudades?**\n",
    "\n",
    "**¿Transformará la forma en que estudiamos la comunicación y la cultura humanas, o restringimos la paleta de opciones de investigación y alteramos lo que significa \"investigación\"? ¿Algunos o todos los de arriba?**\n",
    "\n",
    ">>Este ensayo ofrece seis provocaciones que esperamos puedan despertar conversaciones sobre los temas de Big Data. Dado el surgimiento de Big Data como un fenómeno y una persuasión metodológica, creemos que es hora de comenzar a interrogar críticamente este fenómeno, sus supuestos y sus sesgos."
   ]
  },
  {
   "cell_type": "markdown",
   "metadata": {},
   "source": [
    "# Partes de la Ciencia de Datos. Una aproximación\n",
    "\n",
    "## Según Vallante, la Ciencia de los Datos puede ser dividida en cuatro partes esenciales:\n",
    "\n",
    "<img src=\"./icons/Kernel_Machine.svg.png\"  width=\"40%\" height=\"40%\"/>\n",
    "\n",
    "## 1 **Minería de Datos:** recopilación y formateado de la información.\n",
    "\n",
    "## 2 **Estadística:** análisis de la información.\n",
    "\n",
    "## 3 **Interpretación:** representación o visualización de los datos en infografías, imágenes o gráficos.\n",
    "\n",
    "## 4 **Palanca:** la implicaciones de los datos, aplicaciones, interacción, predicciones, etc.\n"
   ]
  },
  {
   "cell_type": "markdown",
   "metadata": {},
   "source": [
    "# Diferencia entre Big Data y Data Science\n",
    "\n",
    "http://wikibon.org/blog/role-of-the-data-scientist/\n",
    "\n",
    "http://wikibon.org/blog/wp-content/uploads/2011/03/data-science-full.jpg\n",
    "\n",
    "**Big Data:**\n",
    "\n",
    "> * Debe involucrar cómputo distribuido en múltiples servidores.\n",
    "> * Debe entremezclar gestión y procesamiento de datos.\n",
    "> * Debe ir más allá de las bases de datos relacionales y data warehouses.\n",
    "> * Debe permitir resultados que no estaban disponibles con los enfoques anteriores, o que llevarían sustancialmente mucho más tiempo (tiempo de ejecución o latencia).\n",
    "\n",
    "**Ciencia de Datos:**\n",
    "\n",
    "> * Debe involucrar conocimientos de uno o más dominios (por ejemplo finanzas, medicina o geología).\n",
    "> * Debe tomar en cuenta aspectos computacionales.\n",
    "> * Debe incluir técnicas científicas tales como la prueba de hipótesis y la validación de resultados.\n",
    "> * Los resultados deben ser confiables.\n",
    "> * Debería involucrar más matemáticas y estadísticas que los enfoques anteriores.\n",
    "> * Debería incluir el aprendizaje automatizado (machine learning), inteligencia artificial o algoritmos de descubrimiento de conocimiento (knowledge discovery).\n",
    "> * Debería implicar la visualización y creación rápida de prototipos para el desarrollo de software.\n",
    "> * Debe satisfacer al menos uno de estos deberes en un nivel perturbador.\n",
    "> * Pero todo esto está muy lejos de una definición adecuada, en parte debido al gran dinamismo que hay alrededor de estos conceptos.\n",
    "\n",
    "Hay mucho por tratar de comprender. Por ejemplo, la ciencia de datos no es sólo estadística porque está mucho más preocupada por cómo se estructura la información y cómo hacer el procesamiento de datos con mayor eficiencia computacional. Sin embargo, a menudo la estadística es mucho mejor para tomar en cuenta el conocimiento del dominio. En cambio, las personas procedentes del área de computación por lo general se preocupan muy poco sobre el conocimiento del dominio y la confiabilidad de sus resultados, son felices con lograr que los datos sean procesados.\n",
    "\n",
    "Eric W. Schubert"
   ]
  },
  {
   "cell_type": "markdown",
   "metadata": {},
   "source": [
    "# Disquisición 1. Aprendiendo a aprender.\n",
    "## Algunos consejos\n",
    "\n",
    "* *Metacognición:* pensar acerca de pensar\n",
    "* ¿Como puedo acordarme de todo esto?\n",
    "\n",
    "* Si quieres aprender realmente, pon atención a como pones atención.\n",
    "* Piensa en como piensas. Aprende sobre como aprendes.\n",
    "\n",
    "* El truco es mostrarle al cerebro que esto es 'realmente importante', 'crucial'. En otro caso será una continua batalla: tu intentando aferrarte y el cerebro alejandose.\n",
    "\n",
    "* Modo lento y escasamente efectivo: Repetición hasta formar el hábito.\n",
    "* La mente piensa (inconscientemente) si hago esto tantas veces es que es relevante. Lo asumo.\n",
    "\n",
    "* Modo rápido. Incrementar la actividad. Diversificar. Unir imagen y texto. Emocionar. Atención. Conversar."
   ]
  },
  {
   "cell_type": "markdown",
   "metadata": {
    "nbpresent": {
     "id": "ef29cd5b-6321-4466-9899-c2e5c9608c29"
    }
   },
   "source": [
    "# Editor Jupyter. Comandos básicos de uso\n",
    "\n",
    "<img src=\"./icons/jupyterlogo.png\"/>\n",
    "\n",
    "## La barra de menus de Jupyter\n",
    "<img src=\"./icons/jupytertoolbar.png\"/>\n",
    "\n",
    "## Opciones del menú\n",
    "\n",
    "* **File** Opciones de ficheros del Bloc de Notas\n",
    "\n",
    "* **Edit**\n",
    "* **View**\n",
    "* **Insert**\n",
    "* **Cell**\n",
    "* **Kernel**\n",
    "* **Help**\n",
    "\n",
    "## Comandos Básicos\n",
    "Fundamentales: enter, shift-enter, up/k, down/j\n",
    "Saving the notebook: s\n",
    "Change Cell types: y, m, 1-6, t\n",
    "Cell creation: a, b\n",
    "Cell editing: x, c, v, d, z\n",
    "Kernel operations: i, 0 (press twice)\n",
    "\n",
    "** No extenderse en explicaciones en el Curso de Directivos/Predirectivos, ni entrar en excesivo detalle HMTL, Latex etc.**\n"
   ]
  },
  {
   "cell_type": "markdown",
   "metadata": {},
   "source": [
    "## Un ejemplo para abrir boca\n",
    "https://www.ibm.com/developerworks/ssa/cloud/library/cl-datascienceincloud/index.html"
   ]
  },
  {
   "cell_type": "markdown",
   "metadata": {},
   "source": [
    "## Entonces ¿Que es Data Science ?\n",
    "\n",
    "## Para entenderlo veamos algo en perspectiva\n",
    "\n",
    "<img src=\"./icons/barg.png\"/>\n",
    "\n",
    "# Anticipo la clave: CONVERTIR DATOS EN PRODUCTOS\n",
    "\n",
    "<img src=\"./icons/flags.png\"/>\n",
    "\n",
    ">La web está llena de \"aplicaciones basadas en datos\". Cualquier aplicación de comercio electrónico es una aplicación basada en datos. Hay una base de datos detrás de un web front-end, y middleware que habla con una serie de otras bases de datos y servicios de datos (tarjetas de crédito de empresas de procesamiento, bancos, etc). **Pero el simple uso de datos no es realmente lo que entendemos por \"ciencia de los datos\"**. Una aplicación de datos adquiere su valor a partir de los propios datos y crea más datos como resultado. No es sólo una aplicación con datos. Es un producto de datos. *La ciencia de datos permite la creación de productos de datos*.\n",
    "\n",
    ">Uno de los productos de datos anteriores en la Web era la base de datos CDDB. Los desarrolladores de CDDB se dieron cuenta de que cualquier CD tenía una firma única, basada en la longitud exacta (en muestras) de cada pista del CD. Gracenote construyó una base de datos de longitudes de pista, y la acopló a una base de datos de metadatos de álbum (títulos de pista, artistas, títulos de álbumes). Si alguna vez has utilizado iTunes para extraer un CD, has aprovechado esta base de datos. Antes de hacer cualquier otra cosa, iTunes lee la longitud de cada pista, la envía a CDDB y recupera los títulos de las pistas. Si tiene un CD que no está en la base de datos (incluido un CD que ha creado usted mismo), puede crear una entrada para un álbum desconocido. Aunque esto suena bastante simple, es revolucionario: CDDB ve música como datos, no como audio, y crea un nuevo valor al hacerlo. Su negocio es fundamentalmente diferente de vender música, compartir música o analizar gustos musicales (aunque estos también pueden ser \"productos de datos\"). *CDDB surge completamente de ver un problema musical como un problema de datos*.\n",
    "https://es.wikipedia.org/wiki/CDDB http://www.gracenote.com/\n",
    "\n",
    "Google es un maestro en la creación de productos de datos. Ejemplos:\n",
    "\n",
    ">El gran avance de Google fue darse cuenta de que un motor de búsqueda podría utilizar la entrada para algo diferente del texto de la página. El algoritmo PageRank de Google fue uno de los primeros en utilizar datos fuera de la propia página, en particular, el número de enlaces que apuntan a una página. Seguimiento de enlaces hizo búsquedas de Google mucho más útil, y PageRank ha sido un ingrediente clave para el éxito de la empresa.\n",
    "\n",
    ">La comprobación ortográfica no es un problema terriblemente difícil, pero al sugerir correcciones a búsquedas mal escritas, y observar lo que el usuario hace clic en respuesta, Google lo hizo mucho más preciso. Han construido un diccionario de errores ortográficos comunes, sus correcciones, y los contextos en los que se producen.\n",
    "\n",
    "> Reconocimiento de voz siempre ha sido un problema difícil, y sigue siendo difícil. Sin embargo, Google ha hecho grandes progresos utilizando los datos de voz que han recogido, y ha sido capaz de integrar la búsqueda de voz en su motor de búsqueda principal.\n",
    "\n",
    ">Durante la epidemia de gripe porcina de 2009, Google fue capaz de seguir el progreso de la epidemia siguiendo las búsquedas de temas relacionados con la gripe. https://www.google.org/flutrends/about/data/flu/historic/us-historic-v1.txt\n",
    "\n",
    "Texto: Mike Loukides.\n"
   ]
  },
  {
   "cell_type": "markdown",
   "metadata": {},
   "source": [
    "# Esquemas de Data Science\n",
    "http://drewconway.com/zia/2013/3/26/the-data-science-venn-diagram\n",
    "\n",
    "<img src=\"./icons/Data_ScienceVD.png\"/>\n",
    "\n",
    "No tomar demasiado estrictamente...\n",
    "\n",
    "http://www.prooffreader.com/2016/09/battle-of-data-science-venn-diagrams.html\n",
    "\n",
    "https://translate.google.com/translate?sl=en&tl=es&js=y&prev=_t&hl=es&ie=UTF-8&u=http%3A%2F%2Fwww.prooffreader.com%2F2016%2F09%2Fbattle-of-data-science-venn-diagrams.html&edit-text=&act=url"
   ]
  },
  {
   "cell_type": "markdown",
   "metadata": {},
   "source": [
    "## Machine Learning y Deep Learning\n",
    "\n",
    ">Inteligencia artificial: de machine learning al inquietante deep learning.\n",
    "\n",
    "> Hoy día lo realmente importante a nivel tecnológico y económico se juega en el terreno de la inteligencia artificial aplicada. No obstante, la expresión más frecuente en el ámbito de data science es *machine learning* y, desde hace unos años, la que más impresiona es *deep learning*.\n",
    "\n",
    "> Espero aportar un poco más de conocimiento básico en torno a las tres disciplinas: IA, ML y DL. Que harán realidad la ciencia ficción.\n",
    "\n",
    ">De manera formal la inteligencia artificial tiene dos denominaciones: aplicada y robusta (Strong AI). La inteligencia artificial robusta  es cuando las máquinas puedan ejecutar todas las habilidades cognitivas de los humanos, algo que los expertos no consideran que pueda ocurrir en los próximos años.\n",
    "\n",
    ">Nuestro momento actual gira alrededor de la inteligencia artificial aplicada (Applied AI o también llamada  Narrow AI o Weak AI). Machine learning y deep learning entran dentro de la órbita de Applied AI.\n",
    "\n",
    ">Machine learning (ML) o aprendizaje automático es la herramienta que usan los equipos de data science para encontrar la aguja en el pajar. Se trata de sistemas que autoaprenden a base de datos (muchos datos) sin necesidad de programación adicional (aunque hay sistemas híbridos). Han  pasado dieciséis años desde que Google aplicó Page Rank, el algoritmo que intentaba averiguar lo que cada usuario estaba buscando. Google no inventó machine learning pero sí sentó las bases de su uso masivo. Machine learning es el sustento de los sistemas de recomendaciones (Amazon, eBay, LinkedIn, Twitter), de detección de fraude, de reconocimiento de voz, de algoritmos para la predicción de enfermedades, delitos, averías en máquinas o tendencias de consumo.\n",
    "\n",
    ">Pero hace poco la conversación sobre inteligencia artificial se ha ido intensificando alrededor de un término inquietante, **deep learning (aprendizaje profundo)**. \n",
    "* En 2014 Google compró DeepMind, pagó 400 millones de dólares por una minempresa de 50 personas. Actualmente son siete veces más. Es la empresa con el mayor número de expertos en deep learning del mundo. Sede: New Street Square,\n",
    "London EC4A 3TW, UK. Ha hecho un programa capaz de ganar al GO a los expertos. Antes los ordenadores solo eran capaces de jugar al nivel de aficionado. Es mucho más complejo programar un ordenador para jugar al GO que al ajedrez.\n",
    "* Twitter compró MadBits una startup de inteligencia visual capaz de entender el significado de las imágenes y sus correlaciones.\n",
    "* Apple adquirió la empresa Perceptio que usa AI para clasificar fotos.\n",
    "* Facebook que en su última F8 (conferencia de desarrolladores) anunció las últimas capacidades de la empresa en inteligencia artificial. Sus sistemas no solo pueden reconocer imágenes, sino también acciones en vídeos (por ejemplo deportes) y pueden responder a  preguntas sobre textos.  \n",
    "Soraya Paniagua, periodista digital\n",
    "\n",
    "https://www.technologyreview.com/s/532156/googles-secretive-deepmind-startup-unveils-a-neural-turing-machine/\n",
    "https://en.wikipedia.org/wiki/DeepMind\n",
    "\n"
   ]
  },
  {
   "cell_type": "markdown",
   "metadata": {},
   "source": [
    "## El concepto probabilistico\n",
    "\n",
    "Desarrollo"
   ]
  },
  {
   "cell_type": "markdown",
   "metadata": {},
   "source": [
    "Vivimos en un mundo probabilístico. Nada hay seguro de lo que ocurre en él. \n",
    " \n",
    "> No describimos el mundo que vemos, vemos el mundo que podemos describir.”\n",
    "\n",
    "> *René Descartes*\n",
    "\n",
    " \n",
    "\n",
    "> Utilizamos el pensamiento probabilístico cuando emitimos juicios o tomamos decisiones en entornos caracterizados por la incertidumbre. Este tipo de pensamiento nos permite prever y predecir hechos o comportamientos nuevos, basándonos en hechos o comportamientos conocidos. El probabilístico es un tipo de pensamiento que se caracteriza, fundamentalmente, por su carga de inferencia. Es decir, por su carácter predictivo: prevemos lo que podría pasar, basándonos en lo que sabemos que ha pasado. Es un tipo de pensamiento que utilizamos de forma habitual (aunque no siempre somos conscientes de ello) en la mayoría de decisiones que tomamos o de acciones que emprendemos, tanto en el plano personal como en el profesional.\n",
    "\n",
    ">En definitiva, recurrimos a esta tipología de pensamiento, ante cualquier diagnóstico que realicemos, juicio que emitamos, o decisión que adoptemos, basándonos en datos y en hechos, a partir de los cuales inferimos y predecimos una probabilidad. Desde coger (o no) el paraguas por la mañana, al salir de casa, hasta realizar (o no) una inversión en función de su rentabilidad social.\n",
    "\n",
    ">Las ideas fuerza, las características basales y los criterios, los inconvenientes y las dificultades fundamentales que determinan el pensamiento probabilístico, son los que a continuación se describen:\n",
    "\n",
    ">· Sus conclusiones son sólo probable o posiblemente ciertas y no total e inequívocamente ciertas. No obstante, en muchas ocasiones, una vez que hemos realizado el juicio probabilístico, nos olvidamos de su sentido predictivo, y actuamos como si éste constituyera un principio inmutable de verdad.\n",
    "\n",
    ">· Suele ir acompañado del sesgo de la confirmación. Es decir, ante una hipótesis (muchas veces percibida de forma inconsciente y no planteada formalmente), antes que recopilar información que la ponga en duda, o que la haga derivar hacia otra complementaria o alternativa; tendemos a centrarnos (casi siempre de forma sutil, inconsciente y autojustificable) en la búsqueda de aquella información que permita su confirmación. Además, tendemos a negar, o a impedir (también de forma sutil, inconsciente y autojustificable) la generación, el análisis y el procesamiento de la información que pudiera poner en duda o rechazar esa hipótesis inicialmente planteada.\n",
    "\n",
    ">· Dado que, en la mayoría de las decisiones que debemos tomar utilizando este tipo de pensamiento, carecemos de la totalidad de la información relevante sobre cada una de las alternativas posibles, solemos distorsionar nuestras conclusiones con creencias, opiniones y prejuicios personales.\n",
    "\n",
    ">· En demasiadas ocasiones, antes que actuar de forma objetiva, basándose en los principios matemáticos de la estadística o la combinatoria, nuestro pensamiento probabilístico utiliza “pseudo reglas” parciales y subjetivas para emitir juicios.\n",
    "\n",
    ">· Este tipo de pensamiento frecuentemente dibuja escenarios falsos, construidos sobre la base de percepciones incompletas, fantasías cognitivas o afectivas, o limitaciones de nuestro cerebro en el procesamiento y la recuperación de la información.\n",
    "\n",
    ">· Nuestro pensamiento probabilístico es, pues, una víctima propiciatoria y paradigmática del secuestro escenarial. Los prejuicios y fantasías mediante los cuales montamos un escenario falso (del que, evidentemente, solemos inferir conclusiones falsas), son los llamados “Heurísticos” (pseudo reglas subjetivas mediante las cuales generamos escenarios y procesos cognitivos para decidir en entornos de incertidumbre probabilística). Se han descrito, como más significativos y documentados, tres heurísticos principales, los cuales, aunque por cuestiones pedagógicas los describiremos separadamente, suelen actuar juntos, de forma superpuesta y con mecanismos de sinergia (o contrasinergia) y retroalimentación mutua:\n",
    "\n",
    ">· Heurístico de representatividad: se da cuando asignamos una probabilidad en función del grado de correspondencia entre un concepto y el prototipo de su categoría. Por ejemplo, si usted tiene que estimar, de entre varios ordenadores nuevos, de similares características pero de diferentes marcas, el que tiene menos probabilidades de sufrir una avería durante su primer año de funcionamiento; y entre esas marcas figura su prototipo de “ordenador robusto y sin fallos”, usted tenderá a considerar que es justamente ése (su prototipo) el que tiene menos probabilidades de fallar. En su juicio, seguramente, tenderá a obviar otros datos relevantes, como por ejemplo, que la mayoría de los componentes de las diferentes opciones son iguales, que la fábrica que los monta es la misma, o que existen personas que, contrariamente a su experiencia, sí tuvieron problemas con un ordenador de la marca que usted considera prototipo de seguridad y robustez.\n",
    "\n",
    ">· Heurístico de accesibilidad: se da cuando asignamos la probabilidad de un suceso en función de la facilidad o dificultad para recordar la información asociada al mismo (no siempre lo más accesible en nuestra memoria es lo más probable). Imagínese que le enseñan dos listas, ambas con veinte nombres. Una, en la que aparecen muchos artistas famosos, que usted conoce perfectamente, y otra, en la que no reconoce prácticamente a ninguna de las personas que en ella figuran. Si, después de un tiempo, le hacen estimar la probabilidad de que en la primera lista haya más nombres que en la segunda, usted, seguramente, respondería que esa probabilidad es muy alta (hay estudios que confirman que es así como actuamos la mayoría de las personas). En realidad, el error de su apreciación vendría condicionado por las limitaciones de sus mecanismos de procesamiento cognitivo: al recuperar la información archivada en su memoria, usted, dado que la mayoría de las personas de la primera lista le eran familiares, recordaría muchos más nombres de esa lista que de la segunda, lo cual le induciría a pensar (de forma lógica según su mecanismo de recuperación de información, pero errónea según la realidad objetiva) que, muy probablemente, la primera de las listas contenía más nombres que la segunda.\n",
    "\n",
    ">· Heurístico de anclaje y ajuste: se da cuando emitimos un juicio probabilístico basándonos en algún valor inicial, que nos sirve como referencia (frecuentemente distorsionada) para estimar, por extensión y ajuste, la probabilidad final. En investigaciones realizadas con dos grupos experimentales, se les asignó, a cada uno de ellos, la tarea de realizar una multiplicación de ocho números, en cinco segundos. Al primero de los grupos se les presento la siguiente secuencia: 8 x 7 x 6 x 5 x 4 x 3 x 2 x 1, mientras que, para el segundo de ellos, la serie fue la siguiente: 1 x 2 x 3 x 4 x 5 x 6 x 7 x 8. Dado que el tiempo de respuesta era muy corto, los sujetos sólo pudieron realizar las operaciones iniciales, y, a partir de ellas, extrapolando los datos, estimar el resultado. Como las primeras operaciones representaban resultados mayores para el primer grupo, sus estimaciones (de acuerdo con el heurístico de anclaje y ajuste) también fueron muy superiores a las estimaciones del segundo grupo (con operaciones iniciales mucho menores). La media de los resultados fue de: 2.250 frente a 512. El cómputo real de la serie era de 40.320 (lo cual nos indica que, aun y a pesar de que en el primer grupo el resultado estimado fue claramente superior al del segundo, ambos grupos estimaron una respuesta muy significativamente inferior a la del resultado real).\n",
    "\n",
    ">· Por otra parte, el pensamiento probabilístico está severamente influenciado por nuestro mecanismo de construcción de modelos mentales. Los modelos mentales son representaciones psicológicas de situaciones reales, imaginarias o hipotéticas, a partir de las cuales construimos escenarios que nos sirven de marco de referencia, y que nos posibilitan, mediante posteriores mecanismos cognitivos, el planteamiento y la resolución de problemas, y la toma de decisiones. Sin embargo, esos escenarios de referencia, construidos a partir de la generación de modelos mentales, no están libres de posibles secuestros escenariales. De hecho, en los procedimientos de resolución de cuestiones probabilísticas mediante la elaboración de modelos mentales, se han identificado, catalogado y descrito, diferentes heurísticos de referencia. De esos heurísticos, los dos que más secuestros escenariales producen, son los que a continuación se describen:\n",
    "\n",
    ">· Heurístico basado en el principio de verdad: Nuestros modelos mentales, por un principio de economía, tienden a representar, de los datos o de los enunciados de los problemas de corte probabilístico, solamente aquello que es verdadero. Es decir, en nuestras representaciones mentales, no incluimos lo que consideramos que es falso. Por ejemplo, si nos dicen que en una caja hay dos bolas rojas, una verde, una azul, una blanca y ninguna amarilla; tenderíamos a no incluir el dato referente a la bola amarilla en el modelo mental que construiríamos para representar la situación descrita. Sin embargo, hay situaciones probabilísticas que, para resolverlas, necesitamos operar, imprescindiblemente, sobre información, de entrada, no explícitamente verdadera. En ese tipo de situaciones, nuestras representaciones mentales nos secuestran y nos generan enormes dificultades para resolver.\n",
    "\n",
    ">· Heurístico basado en el principio de equiprobabilidad: En caso de no existir una información clara y explícita en otro sentido, y en ocasiones aun y existiendo esa información, nuestros modelos mentales tienden a asignar la misma probabilidad a las distintas opciones que se nos plantean. Por ejemplo, si tenemos información de que una determinada máquina fabrica sólo dos tipos de piezas, y nos sugieren que valoremos la probabilidad de que, en un momento determinado, esté fabricando la pieza del tipo “A”, tenderemos a pensar que esa probabilidad es del 50%. Esto puede no ser en absoluto así: supongamos que es jueves, y que la pieza “A” sólo se fabrica uno de cada tres jueves. Nuestra tendencia inconsciente nos lleva a asignar, por defecto, las probabilidades de las diferentes opciones, de forma equiprobable. Además, eso tendemos a hacerlo, en ocasiones, ignorando la posibilidad de buscar nueva información, e incluso obviando información que descarta la equiprobabilidad.\n",
    "\n",
    ">Os propongo un caso de pensamiento probabilístico para que podáis vivenciar, en la práctica, lo enunciado en los párrafos anteriores:\n",
    "\n",
    ">El Caso Inversia\n",
    "\n",
    ">“Cuando todo lo demás falle, lea atentamente el enunciado.” Ley de Murphy con aromas de Zen.\n",
    "\n",
    ">Acerca del Caso:\n",
    "\n",
    ">Inversia es un caso prototípico de la generación de heurísticos y de la emergencia de escenarios probabilísticos basados en la economía representacional de nuestros procesos cognitivos. Por tanto, es un caso, cuya resolución correcta, está sustancial e indefectiblemente condicionada por el procesamiento de su enunciado y por el establecimiento del modelo mental pertinente.\n",
    "\n",
    ">Te recomendamos pues, que prestes mucha atención a tus procesos de metapensamiento, y que te muestres especialmente vigilante con tus secuestros inducidos e inconscientes.\n",
    "\n",
    ">También te sugerimos que dirijas una especial atención a las reflexiones implícitas en la ley de Murphy con aromas de Zen que acompaña a este reto.\n",
    "\n",
    ">La mayoría de las personas que afrontan, sin ayuda, la resolución de este caso, suelen tener significativas dificultades para solucionarlo (mejor no damos porcentaje alguno, para no desanimar).           \n",
    ">\n",
    "El Caso:\n",
    "\n",
    ">Inversia S.A. es una sociedad que gestiona capitales para su inversión en bolsa. Usted es el Gerente de dicha sociedad.\n",
    "\n",
    ">En estos momentos, su organización está centrada en el estudio de la repercusión que pudiera tener en las acciones de dos grandes empresas de telecomunicaciones (Hipertel y Telemix), la adjudicación a alguna de ellas, de una nueva licencia de telefonía móvil de última generación.\n",
    "\n",
    ">Al concurso antes referido solamente se han presentado las dos empresas relacionadas. Según las bases del mismo, la licencia, si se adjudica, será otorgada, en exclusiva y sin posibilidad de pactos posteriores, a una única sociedad.\n",
    "\n",
    ">Las que a continuación se detallan, son algunas de las conclusiones principales alcanzadas en el estudio realizado por su organización:\n",
    "\n",
    ">1. La empresa que logre la nueva licencia de telefonía móvil, obtendrá, en los tres días posteriores al fallo del concurso, una revalorización de sus acciones del veinte por ciento.\n",
    "\n",
    ">2. La empresa mejor situada, de las dos únicas que se presentan, es Hipertel. Se calcula que la probabilidad de que sea ésta la empresa finalmente ganadora, es del ochenta por ciento.\n",
    "\n",
    ">Las conclusiones antes mencionadas, junto al grueso del estudio y a las recomendaciones pertinentes, han sido remitidas a cada uno de los clientes de su sociedad.\n",
    "\n",
    ">En el día de hoy, con relación al caso de la licencia de telefonía móvil y al respecto del estudio remitido por su organización, uno de sus mejores clientes les ha hecho llegar el siguiente correo electrónico:\n",
    "\n",
    ">Apreciados señores:\n",
    "\n",
    ">Les agradecemos la remisión del interesante estudio realizado por ustedes sobre la adjudicación de la nueva licencia de telefonía móvil.\n",
    "\n",
    ">Lo hemos leído con atención y nos parece excelente, tanto en su planteamiento como en la rigurosidad de sus previsiones.\n",
    "\n",
    ">Dado que tenemos invertidos un millón de Euros en cada una de las dos únicas sociedades que participan en el concurso, dado que la probabilidad mayoritaria de adjudicación la tiene Hipertel, y dado que la segunda de las empresas concursantes (Telemix), sólo posee un veinte por ciento de la probabilidad asignada a la primera:\n",
    "\n",
    ">¿Podrían ustedes decirnos, basándose en sus previsiones, qué probabilidad tenemos nosotros de que el dinero que hemos invertido en una de las dos empresas antes mencionadas, se revalorice, en los tres días posteriores al fallo del concurso, como mínimo, doscientos mil Euros?\n",
    "\n",
    ">Agradecidos por su profesionalidad y por sus deferencias, reciban un afectuoso saludo.\n",
    "\n",
    ">José María Santos Noé\n",
    "\n",
    "https://jpalaciosgil.blogspot.com.es/2009/05/el-pensamiento-probabilistico.html\n",
    "\n",
    "http://home.ubalt.edu/ntsbarsh/opre640S/SpanishP.htm\n",
    "\n",
    "https://prezi.com/n9kogwbypyfj/razonamiento-probabilistico-y-teorema-de-bayes/\n",
    "\n",
    "https://prezi.com/jvrhr0luy5u4/aplicaciones-enfoque-probabilistico/\n"
   ]
  },
  {
   "cell_type": "markdown",
   "metadata": {
    "nbpresent": {
     "id": "ade72f1c-1dc2-4cc6-9a91-21765ddbfbb1"
    }
   },
   "source": [
    "## Infografías"
   ]
  },
  {
   "cell_type": "markdown",
   "metadata": {
    "nbpresent": {
     "id": "bc5c1128-e5b1-40f9-b142-aa7d6888981e"
    }
   },
   "source": [
    "https://www.lancetalent.com/blog/mejores-herramientas-disenar-infografia/"
   ]
  },
  {
   "cell_type": "markdown",
   "metadata": {
    "nbpresent": {
     "id": "a6c13274-cdae-4a21-888b-72d5d071278d"
    }
   },
   "source": [
    "https://www.dataquest.io/blog/jupyter-notebook-tips-tricks-shortcuts/"
   ]
  },
  {
   "cell_type": "markdown",
   "metadata": {
    "nbpresent": {
     "id": "7c8a7585-4e09-4b4a-b654-9e763e98868a"
    }
   },
   "source": [
    "https://athena.brynmawr.edu/jupyter/hub/dblank/public/Jupyter%20Notebook%20Users%20Manual.ipynb"
   ]
  },
  {
   "cell_type": "markdown",
   "metadata": {
    "nbpresent": {
     "id": "398c1102-cb2f-44e8-8704-5bf5c41ae74b"
    }
   },
   "source": [
    "[click this link](http://en.wikipedia.org)"
   ]
  },
  {
   "cell_type": "markdown",
   "metadata": {
    "collapsed": true
   },
   "source": [
    "# Herramientas para el curso\n",
    "[Traductor de GOOGLE](http://translate.google.com/#en/es) Traducciones Ingles / Español\n",
    "\n",
    "[Wikipedia](http://en.wikipedia.org) Búsqueda de información"
   ]
  },
  {
   "cell_type": "code",
   "execution_count": null,
   "metadata": {
    "collapsed": true
   },
   "outputs": [],
   "source": []
  }
 ],
 "metadata": {
  "kernelspec": {
   "display_name": "Python [conda root]",
   "language": "python",
   "name": "conda-root-py"
  },
  "language_info": {
   "codemirror_mode": {
    "name": "ipython",
    "version": 3
   },
   "file_extension": ".py",
   "mimetype": "text/x-python",
   "name": "python",
   "nbconvert_exporter": "python",
   "pygments_lexer": "ipython3",
   "version": "3.5.3"
  },
  "nbpresent": {
   "slides": {
    "03d81f60-0406-44e2-8034-9f145c2bd518": {
     "id": "03d81f60-0406-44e2-8034-9f145c2bd518",
     "prev": "ad72b6b4-a0d0-4c0f-ba7a-fac19c425592",
     "regions": {
      "1efce30a-fe11-4402-b98f-a70cb45765d4": {
       "attrs": {
        "height": 0.4,
        "width": 0.4,
        "x": 0.5,
        "y": 0.5
       },
       "id": "1efce30a-fe11-4402-b98f-a70cb45765d4"
      },
      "2a23bb1e-9361-4438-bef7-4124a2e6704f": {
       "attrs": {
        "height": 0.4,
        "width": 0.4,
        "x": 0.5,
        "y": 0.1
       },
       "id": "2a23bb1e-9361-4438-bef7-4124a2e6704f"
      },
      "77278e8e-8ddc-4056-a0df-55970eb0227e": {
       "attrs": {
        "height": 0.4,
        "width": 0.4,
        "x": 0.1,
        "y": 0.5
       },
       "id": "77278e8e-8ddc-4056-a0df-55970eb0227e"
      },
      "98d02089-d249-4ce5-a31e-b72d2fec2529": {
       "attrs": {
        "height": 0.4,
        "width": 0.4,
        "x": 0.1,
        "y": 0.1
       },
       "content": {
        "cell": "86cb70a6-c850-46fa-8b63-d8c901998c7c",
        "part": "whole"
       },
       "id": "98d02089-d249-4ce5-a31e-b72d2fec2529"
      }
     }
    },
    "9946925c-dc22-42ee-a7df-2b405607fbe1": {
     "id": "9946925c-dc22-42ee-a7df-2b405607fbe1",
     "prev": null,
     "regions": {
      "34d7e256-e967-4c08-9ea8-bdd3a6ce15ca": {
       "attrs": {
        "height": 1,
        "width": 1,
        "x": 0,
        "y": 0
       },
       "content": {
        "cell": "c9eff3b0-f8df-4511-9ea9-6b54dabada40",
        "part": "source"
       },
       "id": "34d7e256-e967-4c08-9ea8-bdd3a6ce15ca"
      }
     }
    },
    "ad72b6b4-a0d0-4c0f-ba7a-fac19c425592": {
     "id": "ad72b6b4-a0d0-4c0f-ba7a-fac19c425592",
     "prev": "9946925c-dc22-42ee-a7df-2b405607fbe1",
     "regions": {
      "234df10d-a975-456b-9f23-52ce22fd05dd": {
       "attrs": {
        "height": 0.6,
        "width": 0.8,
        "x": 0.1,
        "y": 0.1
       },
       "content": {
        "cell": "ef29cd5b-6321-4466-9899-c2e5c9608c29",
        "part": "whole"
       },
       "id": "234df10d-a975-456b-9f23-52ce22fd05dd"
      },
      "4f5193a3-3c9a-4abf-90c5-cfc1a87efef9": {
       "attrs": {
        "height": 0.2,
        "width": 0.4,
        "x": 0.5,
        "y": 0.7
       },
       "id": "4f5193a3-3c9a-4abf-90c5-cfc1a87efef9"
      },
      "efa60489-12af-45e5-97c9-4a75969a08af": {
       "attrs": {
        "height": 0.2,
        "width": 0.4,
        "x": 0.1,
        "y": 0.7
       },
       "id": "efa60489-12af-45e5-97c9-4a75969a08af"
      }
     }
    }
   },
   "themes": {
    "default": "2cfa311a-55a3-4489-bb02-6bf7d33d8ba7",
    "theme": {}
   }
  }
 },
 "nbformat": 4,
 "nbformat_minor": 0
}
