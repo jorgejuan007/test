{
 "cells": [
  {
   "cell_type": "code",
   "execution_count": 11,
   "metadata": {
    "collapsed": true
   },
   "outputs": [],
   "source": [
    "# Monty Hall\n",
    "\n",
    "# presented with three doors. Behind one door (chosen at random) sits a prize.\n",
    "# You must select (guess) a door. If you guess correctly, you get the prize.\n",
    "# But, when you select your door, the show's host throws in a bit of a twist,\n",
    "# opening one of the other two doors ... specifically a door that doesn't\n",
    "# contain the prize. He asks you if you'd like to change your door selection,\n",
    "# to the only other remaining door (not the one you picked originally and not\n",
    "# the now open door). Do you change your selection? Why?\n",
    " \n",
    "# Answer: Yes. ALWAYS change your selection. By sticking with your original\n",
    "# door selection, you have a 1/3 chance of getting the prize. By switching, you\n",
    "# end up with a 2/3 chance of getting the prize.\n",
    " \n",
    "# I explain why on my code blog at: code.jasonbhill.com\n",
    " \n",
    "# I'm going to write this as a tutorial example for object oriented programming\n",
    "# in Python. The idea is that we'll have a class object representing the game.\n",
    "# We'll have variables inside that class that hold information about the game\n",
    "# state, and methods (functions) that advance the game state.\n",
    " \n",
    "# ver http://code.jasonbhill.com/python/modeling-the-monty-hall-problem-with-python/ \n",
    "\n",
    "# https://es.wikipedia.org/wiki/Problema_de_Monty_Hall"
   ]
  },
  {
   "cell_type": "code",
   "execution_count": 12,
   "metadata": {
    "collapsed": true
   },
   "outputs": [],
   "source": [
    "import random # We need the random module to select integers in [1,3] randomly\n",
    "\n",
    "from numba import jit\n",
    "from numpy import arange"
   ]
  },
  {
   "cell_type": "code",
   "execution_count": 13,
   "metadata": {
    "collapsed": true
   },
   "outputs": [],
   "source": [
    "def elige_puerta():\n",
    "# escoge una puerta al azar con número del uno al tres\n",
    "    return random.randint(1,3)"
   ]
  },
  {
   "cell_type": "code",
   "execution_count": 14,
   "metadata": {
    "collapsed": false
   },
   "outputs": [],
   "source": [
    "import matplotlib.pyplot as plt\n",
    "\n",
    "%matplotlib inline\n",
    "\n",
    "def grafico_tarta(ganadas, perdidas):\n",
    "\n",
    "# Pie chart, where the slices will be ordered and plotted counter-clockwise:\n",
    "    labels = 'Ganadas', 'Perdidas'\n",
    "    sizes = [ganadas, perdidas]\n",
    "    explode = (0, 0.1)  # only \"explode\" the 2nd slice (i.e. 'Hogs')\n",
    "\n",
    "    fig1, ax1 = plt.subplots()\n",
    "    ax1.pie(sizes, explode=explode, labels=labels, autopct='%1.1f%%', \n",
    "            shadow=True, startangle=90)\n",
    "    ax1.axis('equal')\n",
    "    plt.show()\n"
   ]
  },
  {
   "cell_type": "code",
   "execution_count": 15,
   "metadata": {
    "collapsed": false
   },
   "outputs": [
    {
     "name": "stdout",
     "output_type": "stream",
     "text": [
      "Opcion a) Mantenemos la elección original\n",
      "Opcion b) Cambio de Puerta\n",
      "Inicio de la Simulación\n",
      "Resultados de la simulación Opcion a):\n",
      "Un millón de partidas (conservando la puerta original)::\n",
      "  ganadas: 332286 games\n",
      "  perdidas: 667714 games\n",
      "  Probabilidad: 33.23% porcentaje ganar\n",
      "\n"
     ]
    },
    {
     "data": {
      "image/png": "[encoded data removed]",
      "text/plain": [
       "<matplotlib.figure.Figure at 0xa453990>"
      ]
     },
     "metadata": {},
     "output_type": "display_data"
    },
    {
     "name": "stdout",
     "output_type": "stream",
     "text": [
      "Resultados de la simulación OPCION b):\n",
      "Un millón de partidas (conservando la puerta original)::\n",
      "  ganadas: 666358 games\n",
      "  perdidas: 333642 games\n",
      "  Probabilidad: 66.64% porcentaje ganar\n",
      "\n"
     ]
    },
    {
     "data": {
      "image/png": "[encoded data removed]",
      "text/plain": [
       "<matplotlib.figure.Figure at 0xa4da9b0>"
      ]
     },
     "metadata": {},
     "output_type": "display_data"
    },
    {
     "name": "stdout",
     "output_type": "stream",
     "text": [
      "Fin de la Simulación\n"
     ]
    }
   ],
   "source": [
    " class MontyHall:\n",
    "    \"\"\"\n",
    "    Class to model the Monty Hall problem.\n",
    "    \"\"\"\n",
    "\n",
    "    def __init__(self):\n",
    "        self.prize_door = elige_puerta()\n",
    "        self.selected_door = None\n",
    "        self.removed_door = None\n",
    "\n",
    "    def select_door(self):\n",
    "        \"\"\"\n",
    "        Randomly selects a door for the contestant.\n",
    "        \"\"\"\n",
    "        self.selected_door =elige_puerta()\n",
    "\n",
    "    def remove_door(self):\n",
    "        \"\"\"\n",
    "        This is how the host removes a (non-prize/non-selected) door..\n",
    "        \"\"\"\n",
    "        # Pick a door at random.\n",
    "        d = elige_puerta()\n",
    "        # If that door is the prize door or the contestant's door, re-pick.\n",
    "        while d == self.selected_door or d == self.prize_door:\n",
    "            d = elige_puerta()\n",
    "        # set the removed door to d\n",
    "        self.removed_door = d\n",
    " \n",
    "    def switch_choice(self):\n",
    "        \"\"\"\n",
    "        Switches the selected door once a non-prize door is removed.\n",
    "        \"\"\"\n",
    "        # 1+2+3=6. There's only one choice of door if we switch our selection.\n",
    "        self.selected_door = 6 - self.selected_door - self.removed_door\n",
    "    def user_wins(self):\n",
    "        \"\"\"\n",
    "        Determine if the user wins. Return true on win, false on lose.\n",
    "        \"\"\"\n",
    "        if self.selected_door == self.prize_door:\n",
    "            return True\n",
    "        else:\n",
    "            return False\n",
    "    def run_game(self, switch=True):\n",
    "\n",
    "        self.select_door()\n",
    "\n",
    "        self.remove_door()\n",
    "\n",
    "        if switch:\n",
    "            self.switch_choice()\n",
    "\n",
    "        return self.user_wins()\n",
    " \n",
    " \n",
    " \n",
    "# Now, we'll run the game. When asked if we want to switch door selection when\n",
    "# the door is removed by the host, we'll say 'yes' and switch our choice of\n",
    "# door. We'll run that experiment one million times, always switching choice\n",
    "# when given the chance. Here's what that looks like:\n",
    "\n",
    "\n",
    "import ipywidgets as widgets\n",
    "from IPython.display import display\n",
    "progress = widgets.IntProgress(min=0, max=100, value=1)\n",
    "progress.bar_style = 'success'\n",
    "\n",
    "m=MontyHall()\n",
    "\n",
    "def simulacion_CambioPuerta():\n",
    "    wins, losses = 0, 0\n",
    "\n",
    "    for i in range(1000000):\n",
    "        progress.value = i /10000\n",
    "    # make an instance of the game, call it 'm'\n",
    "    #    m = MontyHall()\n",
    "        m.prize_door = elige_puerta()\n",
    "        m.selected_door = None\n",
    "        m.removed_door = None\n",
    "        # run the game and switch choice of door.\n",
    "        if m.run_game(switch=True):\n",
    "            wins += 1\n",
    "        else:\n",
    "            losses += 1\n",
    "    perc_win = 100.0*wins / (wins+losses)\n",
    "    print (\"Resultados de la simulación OPCION b):\") \n",
    "    print (\"Un millón de partidas (conservando la puerta original)::\")\n",
    "    print (\"  ganadas:\", wins, \"games\")\n",
    "    print (\"  perdidas:\", losses, \"games\")\n",
    "    print (\"  Probabilidad: %.2f%% porcentaje ganar\\n\" % perc_win)\n",
    "    grafico_tarta(wins,losses)\n",
    "\n",
    " \n",
    "def simulacion_SinCambioPuerta():\n",
    "    wins, losses = 0, 0\n",
    "    for i in range(1000000):\n",
    "        progress.value = i /10000\n",
    "        m.prize_door = elige_puerta()\n",
    "        m.selected_door = None\n",
    "        m.removed_door = None\n",
    "        if m.run_game(switch=False):\n",
    "            wins += 1\n",
    "        else:\n",
    "            losses += 1\n",
    "    perc_win = 100.0*wins / (wins+losses)\n",
    "    print (\"Resultados de la simulación Opcion a):\") \n",
    "    print (\"Un millón de partidas (conservando la puerta original)::\")\n",
    "    print (\"  ganadas:\", wins, \"games\")\n",
    "    print (\"  perdidas:\", losses, \"games\")\n",
    "    print (\"  Probabilidad: %.2f%% porcentaje ganar\\n\" % perc_win)\n",
    "    grafico_tarta(wins,losses)\n",
    "\n",
    "print (\"Inicio de la Simulación\")\n",
    "print (\"Opcion a) Mantenemos la elección original\")   \n",
    "print (\"Opcion b) Cambio de Puerta\")\n",
    "display(progress)\n",
    "simulacion_SinCambioPuerta()\n",
    "simulacion_CambioPuerta()\n",
    "print(\"Fin de la Simulación\")\n",
    " \n",
    "# Now that the game has been run one million times, compute/display stats."
   ]
  },
  {
   "cell_type": "code",
   "execution_count": null,
   "metadata": {
    "collapsed": true
   },
   "outputs": [],
   "source": []
  }
 ],
 "metadata": {
  "kernelspec": {
   "display_name": "Python 3",
   "language": "python",
   "name": "python3"
  },
  "language_info": {
   "codemirror_mode": {
    "name": "ipython",
    "version": 3
   },
   "file_extension": ".py",
   "mimetype": "text/x-python",
   "name": "python",
   "nbconvert_exporter": "python",
   "pygments_lexer": "ipython3",
   "version": "3.5.3"
  },
  "widgets": {
   "state": {
    "3d080fbef0ab434eaa62a1268255c289": {
     "views": [
      {
       "cell_index": 4
      }
     ]
    },
    "599712413d034187be7dafd50b0ff0e3": {
     "views": [
      {
       "cell_index": 4
      }
     ]
    }
   },
   "version": "1.2.0"
  }
 },
 "nbformat": 4,
 "nbformat_minor": 2
}
