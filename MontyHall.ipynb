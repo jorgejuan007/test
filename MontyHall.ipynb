{
 "cells": [
  {
   "cell_type": "markdown",
   "metadata": {},
   "source": [
    "## Simulación del Problema de Monty Hall\n",
    "\n",
    "\n",
    "https://es.wikipedia.org/wiki/Problema_de_Monty_Hall\n",
    "\n",
    "\n"
   ]
  },
  {
   "cell_type": "code",
   "execution_count": 15,
   "metadata": {
    "collapsed": true
   },
   "outputs": [],
   "source": [
    "import random # Librerias usadas en el programa\n",
    "import notebook\n",
    "from numba import jit\n",
    "from numpy import arange"
   ]
  },
  {
   "cell_type": "code",
   "execution_count": 16,
   "metadata": {
    "collapsed": true
   },
   "outputs": [],
   "source": [
    "from ipywidgets import interact, interactive, fixed, interact_manual, widgets\n",
    "\n",
    "import warnings\n",
    "warnings.filterwarnings('ignore')\n",
    "from IPython.display import display"
   ]
  },
  {
   "cell_type": "code",
   "execution_count": 17,
   "metadata": {
    "collapsed": false
   },
   "outputs": [],
   "source": [
    "import matplotlib.pyplot as plt # librería de gráficos\n",
    "\n",
    "%matplotlib inline\n",
    "\n",
    "def grafico_tarta(ganadas, perdidas):\n",
    "\n",
    "# Pie chart, where the slices will be ordered and plotted counter-clockwise:\n",
    "    labels = 'Ganadas', 'Perdidas'\n",
    "    sizes = [ganadas, perdidas]\n",
    "    explode = (0, 0.1)  # saca el sector un poco hacia fuera\n",
    "    fig1, ax1 = plt.subplots()\n",
    "    ax1.pie(sizes, explode=explode, labels=labels, autopct='%1.1f%%', \n",
    "            shadow=True, startangle=90)\n",
    "    ax1.axis('equal')\n",
    "    plt.show()\n"
   ]
  },
  {
   "cell_type": "code",
   "execution_count": 18,
   "metadata": {
    "collapsed": true
   },
   "outputs": [],
   "source": [
    "numero_puertas=10000 # valor por defecto\n",
    "puerta_ganadora = random.randint(1,3)       \n",
    "puerta_elegida = None\n",
    "puerta_eliminada = None\n",
    "cambio=True "
   ]
  },
  {
   "cell_type": "code",
   "execution_count": 19,
   "metadata": {
    "collapsed": true
   },
   "outputs": [],
   "source": [
    "@jit\n",
    "def juega_partida(HayCambio):\n",
    "\n",
    "    puerta_elegida = random.randint(1,3)\n",
    "    puerta_ganadora = random.randint(1,3)\n",
    "    puerta_eliminada = None\n",
    "    \n",
    "    \"\"\"\n",
    "    El maestro de ceremonias elimina una puerta no premiada, al azar\n",
    "    \"\"\"\n",
    "    d = random.randint(1,3)\n",
    "    # Si es la elegida por el concursante o la del premio elegimos otra.\n",
    "    while d == puerta_elegida or d == puerta_ganadora:\n",
    "        d = random.randint(1,3)\n",
    "    puerta_eliminada = d    \n",
    "    \n",
    "    if (HayCambio): #cambia la puerta usando los números\n",
    "        puerta_elegida = (6 - puerta_elegida - puerta_eliminada)\n",
    "\n",
    "    if (puerta_elegida == puerta_ganadora):\n",
    "        return True\n",
    "    else:\n",
    "        return False\n",
    "    return (puerta_elegida == puerta_ganadora)\n"
   ]
  },
  {
   "cell_type": "code",
   "execution_count": 20,
   "metadata": {
    "collapsed": false
   },
   "outputs": [],
   "source": [
    "#interact(Puertas,x=miSlider);\n",
    "\n",
    "def boton_pulsado(b):\n",
    "    NumeroPuertas=miSlider.value\n",
    "    print(\"Versión Notebook:\", notebook.__version__)\n",
    "    print(\"Versión Widgets:\", notebook.__version__)\n",
    "\n",
    "    print (\"Inicio de la Simulación\")\n",
    "    print(\"Para un numero de puertas de\",NumeroPuertas)\n",
    "    print (\"Opcion: Mantenemos la elección original\")  \n",
    "    \n",
    "    Etiqueta1=widgets.Label(\n",
    "        value=\"Sin Cambio de Puerta\",\n",
    "        placeholder='Some LaTeX',\n",
    "        description='Some LaTeX',\n",
    "        disabled=False\n",
    "    )\n",
    "    display(Etiqueta1)\n",
    "    display(barra_progreso_sin_cambio)\n",
    "  \n",
    "    ganadas, perdidas = 0, 0\n",
    "    \n",
    "    for i in range(NumeroPuertas):\n",
    "        barra_progreso_sin_cambio.value = (100 * i / NumeroPuertas)\n",
    "\n",
    "        if juega_partida(False):\n",
    "            ganadas += 1\n",
    "        else:\n",
    "            perdidas += 1\n",
    "            \n",
    "    porcentaje_ganadas = 100.0 * ganadas / (ganadas+perdidas)\n",
    "    print (\"Resultados de la simulación:\") \n",
    "    print (\"Para un número de partidas (conservando la puerta original) de:\",NumeroPuertas)\n",
    "    print (\"  ganadas:\", ganadas, \"partidas\")\n",
    "    print (\"  perdidas:\", perdidas, \"partidas\")\n",
    "    print (\"  Probabilidad de Ganar: %.2f%% porcentual\" % porcentaje_ganadas)\n",
    "    grafico_tarta(ganadas,perdidas)\n",
    "\n",
    "    print (\"Opcion: Cambio de Puerta\")\n",
    "    Etiqueta2=widgets.Label(\n",
    "        value=\"Cambio de Puerta\",\n",
    "        placeholder='Some LaTeX',\n",
    "        description='Some LaTeX',\n",
    "        disabled=False\n",
    "    )\n",
    "    display(Etiqueta2)\n",
    "    display(barra_progreso_con_cambio)\n",
    "    cambio=True      \n",
    "    ganadas, perdidas = 0, 0\n",
    "    for i in range(NumeroPuertas):\n",
    "        barra_progreso_con_cambio.value =  100 * i / NumeroPuertas\n",
    "        if (juega_partida(True)):\n",
    "            ganadas += 1\n",
    "        else:\n",
    "            perdidas += 1           \n",
    "    porcentaje_ganadas = 100.0 * ganadas / (ganadas+perdidas)\n",
    "    print (\"Resultados de la simulación:\") \n",
    "    print (\"Para un número de partidas (cambiando de puerta) de:\", NumeroPuertas)\n",
    "    print (\"  ganadas:\", ganadas, \"partidas\")\n",
    "    print (\"  perdidas:\", perdidas, \"partidas\")\n",
    "    print (\"  Probabilidad de Ganar: %.2f%% porcentual\" % porcentaje_ganadas)\n",
    "    grafico_tarta(ganadas,perdidas)\n",
    "            \n",
    "    print(\"Fin de la Simulación\")    \n",
    "    \n",
    "\n"
   ]
  },
  {
   "cell_type": "code",
   "execution_count": null,
   "metadata": {
    "collapsed": false
   },
   "outputs": [
    {
     "name": "stdout",
     "output_type": "stream",
     "text": [
      "Versión Notebook: 4.3.1\n",
      "Versión Widgets: 4.3.1\n",
      "Inicio de la Simulación\n",
      "Para un numero de puertas de 70000\n",
      "Opcion: Mantenemos la elección original\n",
      "Resultados de la simulación:\n",
      "Para un número de partidas (conservando la puerta original) de: 70000\n",
      "  ganadas: 23434 partidas\n",
      "  perdidas: 46566 partidas\n",
      "  Probabilidad de Ganar: 33.48% porcentual\n"
     ]
    },
    {
     "data": {
      "image/png": "[encoded data removed]",
      "text/plain": [
       "<matplotlib.figure.Figure at 0x1155b5518>"
      ]
     },
     "metadata": {},
     "output_type": "display_data"
    },
    {
     "name": "stdout",
     "output_type": "stream",
     "text": [
      "Opcion: Cambio de Puerta\n",
      "Resultados de la simulación:\n",
      "Para un número de partidas (cambiando de puerta) de: 70000\n",
      "  ganadas: 46765 partidas\n",
      "  perdidas: 23235 partidas\n",
      "  Probabilidad de Ganar: 66.81% porcentual\n"
     ]
    },
    {
     "data": {
      "image/png": "[encoded data removed]",
      "text/plain": [
       "<matplotlib.figure.Figure at 0x11569e748>"
      ]
     },
     "metadata": {},
     "output_type": "display_data"
    },
    {
     "name": "stdout",
     "output_type": "stream",
     "text": [
      "Fin de la Simulación\n"
     ]
    }
   ],
   "source": [
    "# Inicio del programa\n",
    "barra_progreso_sin_cambio = widgets.IntProgress(min=0, max=100, value=1)\n",
    "barra_progreso_sin_cambio.bar_style = 'success'\n",
    "\n",
    "barra_progreso_con_cambio = widgets.IntProgress(min=0, max=100, value=1)\n",
    "barra_progreso_con_cambio.bar_style = 'success'\n",
    "\n",
    "Etiqueta=widgets.Label(\n",
    "    value=\"Simulación Monty. ¿número de Puertas:?\",\n",
    "    placeholder='Some LaTeX',\n",
    "    description='Some LaTeX',\n",
    "    disabled=False\n",
    ")\n",
    "display(Etiqueta)    \n",
    "miSlider=widgets.IntSlider(min=1,max=1000000,step=1,value=70000)\n",
    "display(miSlider)  \n",
    "#interact(Puertas,x=miSlider);\n",
    "\n",
    "#NumeroPuertas=miSlider.value\n",
    "boton=widgets.Button(\n",
    "    description='Ejecutar Simulación',\n",
    "    disabled=False,\n",
    "    button_style='', # 'success', 'info', 'warning', 'danger' or ''\n",
    "    tooltip='Click me',\n",
    "    icon='check'\n",
    ")\n",
    "boton.on_click(boton_pulsado)\n",
    "display(boton)\n"
   ]
  },
  {
   "cell_type": "code",
   "execution_count": null,
   "metadata": {
    "collapsed": false
   },
   "outputs": [],
   "source": []
  },
  {
   "cell_type": "code",
   "execution_count": null,
   "metadata": {
    "collapsed": true
   },
   "outputs": [],
   "source": []
  }
 ],
 "metadata": {
  "kernelspec": {
   "display_name": "Python [default]",
   "language": "python",
   "name": "python3"
  },
  "language_info": {
   "codemirror_mode": {
    "name": "ipython",
    "version": 3
   },
   "file_extension": ".py",
   "mimetype": "text/x-python",
   "name": "python",
   "nbconvert_exporter": "python",
   "pygments_lexer": "ipython3",
   "version": "3.5.3"
  },
  "widgets": {
   "state": {
    "3c3f595391a045c38578981a68f8bdb3": {
     "views": [
      {
       "cell_index": 7
      }
     ]
    },
    "531aa94d85974dd28fd6d92bbaf7c7f7": {
     "views": [
      {
       "cell_index": 7
      }
     ]
    },
    "6621738f7108425ba1feef503d12232b": {
     "views": [
      {
       "cell_index": 7
      }
     ]
    },
    "8c12b47ed15d412eafa9536891e672d1": {
     "views": [
      {
       "cell_index": 7
      }
     ]
    },
    "90fab67d02e446ccab096083c0fa99dd": {
     "views": [
      {
       "cell_index": 7
      },
      {
       "cell_index": 7
      }
     ]
    },
    "95149b12007c4fc18ff097e8a1d9c01a": {
     "views": [
      {
       "cell_index": 7
      }
     ]
    },
    "98911d3f3b3644b3a2b9c853a00b73c5": {
     "views": [
      {
       "cell_index": 7
      },
      {
       "cell_index": 7
      }
     ]
    },
    "a62a8ed13a7f4675850c1f2a60777af6": {
     "views": [
      {
       "cell_index": 7
      }
     ]
    },
    "bafffb125163461f92cbb721e23a1a9a": {
     "views": [
      {
       "cell_index": 7
      }
     ]
    },
    "c01e11d39f2d4102b0f79ee489157210": {
     "views": [
      {
       "cell_index": 7
      }
     ]
    },
    "c6f8d152e25e42d999421c885ea896e8": {
     "views": [
      {
       "cell_index": 7
      }
     ]
    },
    "f0896e5d18ac4386a96bd4878e23ffa6": {
     "views": [
      {
       "cell_index": 7
      }
     ]
    }
   },
   "version": "1.2.0"
  }
 },
 "nbformat": 4,
 "nbformat_minor": 2
}
